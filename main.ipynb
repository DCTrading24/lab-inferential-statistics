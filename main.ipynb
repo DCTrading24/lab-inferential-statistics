{
 "cells": [
  {
   "cell_type": "code",
   "execution_count": 5,
   "metadata": {},
   "outputs": [],
   "source": [
    "import math \n",
    "import pandas as pd # manipulate dataframes\n",
    "import numpy as np # numerical python\n",
    "import matplotlib.pyplot as plt # viz\n",
    "\n",
    "# New libraries\n",
    "import scipy.stats as st # stats"
   ]
  },
  {
   "cell_type": "code",
   "execution_count": 3,
   "metadata": {},
   "outputs": [
    {
     "name": "stdout",
     "output_type": "stream",
     "text": [
      "Null Hypothesis (H₀): The Honulu population has the same systolic blood pressure as the average world population \n",
      "Alternate Hypothesis (H₁): The Honulu population has a greater systolic blood pressure than then average world population\n"
     ]
    }
   ],
   "source": [
    "# Hypotheses\n",
    "null_hypothesis = \"The Honulu population has the same systolic blood pressure as the average world population \"  # H₀\n",
    "alt_hypothesis = \"The Honulu population has a greater systolic blood pressure than then average world population\"  # H₁\n",
    "\n",
    "print(f\"Null Hypothesis (H₀): {null_hypothesis}\")\n",
    "print(f\"Alternate Hypothesis (H₁): {alt_hypothesis}\")"
   ]
  },
  {
   "cell_type": "markdown",
   "metadata": {},
   "source": [
    "1. Assuming normal distribution for the world populations blood pressure\n",
    "2. Defining Hyptheses\n",
    "3. Choosing T Test as we do not know the std of the world populations blood pressure\n",
    "4. Decision Making"
   ]
  },
  {
   "cell_type": "code",
   "execution_count": 6,
   "metadata": {},
   "outputs": [
    {
     "name": "stdout",
     "output_type": "stream",
     "text": [
      "Test Statistic (t): 4.76\n"
     ]
    }
   ],
   "source": [
    "mean = 130.1\n",
    "mu = 120\n",
    "s = 21.21\n",
    "n = 100\n",
    "\n",
    "# Calculate the t-statistic\n",
    "t_stat = (mean - mu) / (s / np.sqrt(n))\n",
    "print(f\"Test Statistic (t): {t_stat:.2f}\")"
   ]
  },
  {
   "cell_type": "code",
   "execution_count": 12,
   "metadata": {},
   "outputs": [
    {
     "data": {
      "text/plain": [
       "'alpha = 0.05\\n# One-Tailed Test (Right-Tailed)\\nt_stat, p_value = st.ttest_1samp(mean, mu, alternative=\\'greater\\')\\nprint(f\"Test Statistic (t): {t_stat:.2f}\")\\nprint(f\"P-Value: {p_value:.4f}\")\\nprint()\\n\\nif p_value > alpha:\\n    print(\"Fail to Reject the Null Hypothesis: Not enough evidence to say the average Honulu blood pressure is greater than 120 mm Hg.\")\\nelse:\\n    print(\"Reject the Null Hypothesis: There is evidence to say the average Honulu blood pressure is greater than 120 mm Hg.\")'"
      ]
     },
     "execution_count": 12,
     "metadata": {},
     "output_type": "execute_result"
    }
   ],
   "source": [
    "'''alpha = 0.05\n",
    "# One-Tailed Test (Right-Tailed)\n",
    "t_stat, p_value = st.ttest_1samp(mean, mu, alternative='greater')\n",
    "print(f\"Test Statistic (t): {t_stat:.2f}\")\n",
    "print(f\"P-Value: {p_value:.4f}\")\n",
    "print()\n",
    "\n",
    "if p_value > alpha:\n",
    "    print(\"Fail to Reject the Null Hypothesis: Not enough evidence to say the average Honulu blood pressure is greater than 120 mm Hg.\")\n",
    "else:\n",
    "    print(\"Reject the Null Hypothesis: There is evidence to say the average Honulu blood pressure is greater than 120 mm Hg.\")'''"
   ]
  }
 ],
 "metadata": {
  "kernelspec": {
   "display_name": "base",
   "language": "python",
   "name": "python3"
  },
  "language_info": {
   "codemirror_mode": {
    "name": "ipython",
    "version": 3
   },
   "file_extension": ".py",
   "mimetype": "text/x-python",
   "name": "python",
   "nbconvert_exporter": "python",
   "pygments_lexer": "ipython3",
   "version": "3.12.7"
  }
 },
 "nbformat": 4,
 "nbformat_minor": 2
}
